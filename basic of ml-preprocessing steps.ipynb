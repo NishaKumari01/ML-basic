{
 "cells": [
  {
   "cell_type": "code",
   "execution_count": 12,
   "id": "4c2dcddd",
   "metadata": {
    "scrolled": true
   },
   "outputs": [
    {
     "name": "stderr",
     "output_type": "stream",
     "text": [
      "UsageError: unrecognized arguments: #picture will come in proper format\n"
     ]
    }
   ],
   "source": [
    "import os, sys\n",
    "import numpy as np #for mathemical calculation,to convert data into array format, to do algebra,probabilit\n",
    "import pandas as pd #for data manipulation\n",
    "import matplotlib.pyplot as plt #for data visualization\n",
    "%matplotlib inline #picture will come in proper format\n",
    "import seaborn as sns #advance data visualization along with stats\n",
    "sns.set() #width and height will come properly\n",
    "import warnings #to remove warnings\n",
    "warnings.filterwarnings('ignore')"
   ]
  },
  {
   "cell_type": "code",
   "execution_count": 13,
   "id": "10e7ee83",
   "metadata": {},
   "outputs": [],
   "source": [
    "import os, sys\n",
    "import numpy as np \n",
    "import pandas as pd \n",
    "import matplotlib.pyplot as plt \n",
    "%matplotlib inline \n",
    "import seaborn as sns\n",
    "sns.set() \n",
    "import warnings \n",
    "warnings.filterwarnings('ignore')"
   ]
  },
  {
   "cell_type": "code",
   "execution_count": 14,
   "id": "6ffc5045",
   "metadata": {},
   "outputs": [
    {
     "data": {
      "text/plain": [
       "'C:\\\\Users\\\\lenovo'"
      ]
     },
     "execution_count": 14,
     "metadata": {},
     "output_type": "execute_result"
    }
   ],
   "source": [
    "os.getcwd()"
   ]
  },
  {
   "cell_type": "code",
   "execution_count": 15,
   "id": "ad446888",
   "metadata": {},
   "outputs": [
    {
     "data": {
      "text/html": [
       "<div>\n",
       "<style scoped>\n",
       "    .dataframe tbody tr th:only-of-type {\n",
       "        vertical-align: middle;\n",
       "    }\n",
       "\n",
       "    .dataframe tbody tr th {\n",
       "        vertical-align: top;\n",
       "    }\n",
       "\n",
       "    .dataframe thead th {\n",
       "        text-align: right;\n",
       "    }\n",
       "</style>\n",
       "<table border=\"1\" class=\"dataframe\">\n",
       "  <thead>\n",
       "    <tr style=\"text-align: right;\">\n",
       "      <th></th>\n",
       "      <th>Employee Id</th>\n",
       "      <th>First Name</th>\n",
       "      <th>Last Name</th>\n",
       "      <th>Department</th>\n",
       "      <th>Age</th>\n",
       "      <th>Experience</th>\n",
       "      <th>Salary</th>\n",
       "    </tr>\n",
       "  </thead>\n",
       "  <tbody>\n",
       "    <tr>\n",
       "      <th>0</th>\n",
       "      <td>1</td>\n",
       "      <td>Joy</td>\n",
       "      <td>Bass</td>\n",
       "      <td>Sales and Marketing</td>\n",
       "      <td>28.0</td>\n",
       "      <td>3.0</td>\n",
       "      <td>32889</td>\n",
       "    </tr>\n",
       "    <tr>\n",
       "      <th>1</th>\n",
       "      <td>2</td>\n",
       "      <td>Sheila</td>\n",
       "      <td>Garza</td>\n",
       "      <td>Sales and Marketing</td>\n",
       "      <td>22.0</td>\n",
       "      <td>1.0</td>\n",
       "      <td>15944</td>\n",
       "    </tr>\n",
       "    <tr>\n",
       "      <th>2</th>\n",
       "      <td>3</td>\n",
       "      <td>John</td>\n",
       "      <td>Bryant</td>\n",
       "      <td>Customer Relations</td>\n",
       "      <td>22.0</td>\n",
       "      <td>1.0</td>\n",
       "      <td>40343</td>\n",
       "    </tr>\n",
       "    <tr>\n",
       "      <th>3</th>\n",
       "      <td>4</td>\n",
       "      <td>Christian</td>\n",
       "      <td>Farley</td>\n",
       "      <td>Customer Relations</td>\n",
       "      <td>22.0</td>\n",
       "      <td>1.0</td>\n",
       "      <td>19018</td>\n",
       "    </tr>\n",
       "    <tr>\n",
       "      <th>4</th>\n",
       "      <td>5</td>\n",
       "      <td>Colorado</td>\n",
       "      <td>Bowen</td>\n",
       "      <td>Accounting</td>\n",
       "      <td>27.0</td>\n",
       "      <td>0.0</td>\n",
       "      <td>24795</td>\n",
       "    </tr>\n",
       "  </tbody>\n",
       "</table>\n",
       "</div>"
      ],
      "text/plain": [
       "   Employee Id First Name Last Name           Department   Age  Experience  \\\n",
       "0            1        Joy      Bass  Sales and Marketing  28.0         3.0   \n",
       "1            2     Sheila     Garza  Sales and Marketing  22.0         1.0   \n",
       "2            3       John    Bryant   Customer Relations  22.0         1.0   \n",
       "3            4  Christian    Farley   Customer Relations  22.0         1.0   \n",
       "4            5   Colorado     Bowen           Accounting  27.0         0.0   \n",
       "\n",
       "   Salary  \n",
       "0   32889  \n",
       "1   15944  \n",
       "2   40343  \n",
       "3   19018  \n",
       "4   24795  "
      ]
     },
     "execution_count": 15,
     "metadata": {},
     "output_type": "execute_result"
    }
   ],
   "source": [
    "df=pd.read_excel('Employee_Data.xls')\n",
    "df.head()"
   ]
  },
  {
   "cell_type": "code",
   "execution_count": 16,
   "id": "af4c0e51",
   "metadata": {},
   "outputs": [
    {
     "data": {
      "text/html": [
       "<div>\n",
       "<style scoped>\n",
       "    .dataframe tbody tr th:only-of-type {\n",
       "        vertical-align: middle;\n",
       "    }\n",
       "\n",
       "    .dataframe tbody tr th {\n",
       "        vertical-align: top;\n",
       "    }\n",
       "\n",
       "    .dataframe thead th {\n",
       "        text-align: right;\n",
       "    }\n",
       "</style>\n",
       "<table border=\"1\" class=\"dataframe\">\n",
       "  <thead>\n",
       "    <tr style=\"text-align: right;\">\n",
       "      <th></th>\n",
       "      <th>Employee Id</th>\n",
       "      <th>First Name</th>\n",
       "      <th>Last Name</th>\n",
       "      <th>Department</th>\n",
       "      <th>Age</th>\n",
       "      <th>Experience</th>\n",
       "      <th>Salary</th>\n",
       "    </tr>\n",
       "  </thead>\n",
       "  <tbody>\n",
       "    <tr>\n",
       "      <th>0</th>\n",
       "      <td>1</td>\n",
       "      <td>Joy</td>\n",
       "      <td>Bass</td>\n",
       "      <td>Sales and Marketing</td>\n",
       "      <td>28.0</td>\n",
       "      <td>3.0</td>\n",
       "      <td>32889</td>\n",
       "    </tr>\n",
       "    <tr>\n",
       "      <th>1</th>\n",
       "      <td>2</td>\n",
       "      <td>Sheila</td>\n",
       "      <td>Garza</td>\n",
       "      <td>Sales and Marketing</td>\n",
       "      <td>22.0</td>\n",
       "      <td>1.0</td>\n",
       "      <td>15944</td>\n",
       "    </tr>\n",
       "    <tr>\n",
       "      <th>2</th>\n",
       "      <td>3</td>\n",
       "      <td>John</td>\n",
       "      <td>Bryant</td>\n",
       "      <td>Customer Relations</td>\n",
       "      <td>22.0</td>\n",
       "      <td>1.0</td>\n",
       "      <td>40343</td>\n",
       "    </tr>\n",
       "    <tr>\n",
       "      <th>3</th>\n",
       "      <td>4</td>\n",
       "      <td>Christian</td>\n",
       "      <td>Farley</td>\n",
       "      <td>Customer Relations</td>\n",
       "      <td>22.0</td>\n",
       "      <td>1.0</td>\n",
       "      <td>19018</td>\n",
       "    </tr>\n",
       "    <tr>\n",
       "      <th>4</th>\n",
       "      <td>5</td>\n",
       "      <td>Colorado</td>\n",
       "      <td>Bowen</td>\n",
       "      <td>Accounting</td>\n",
       "      <td>27.0</td>\n",
       "      <td>0.0</td>\n",
       "      <td>24795</td>\n",
       "    </tr>\n",
       "  </tbody>\n",
       "</table>\n",
       "</div>"
      ],
      "text/plain": [
       "   Employee Id First Name Last Name           Department   Age  Experience  \\\n",
       "0            1        Joy      Bass  Sales and Marketing  28.0         3.0   \n",
       "1            2     Sheila     Garza  Sales and Marketing  22.0         1.0   \n",
       "2            3       John    Bryant   Customer Relations  22.0         1.0   \n",
       "3            4  Christian    Farley   Customer Relations  22.0         1.0   \n",
       "4            5   Colorado     Bowen           Accounting  27.0         0.0   \n",
       "\n",
       "   Salary  \n",
       "0   32889  \n",
       "1   15944  \n",
       "2   40343  \n",
       "3   19018  \n",
       "4   24795  "
      ]
     },
     "execution_count": 16,
     "metadata": {},
     "output_type": "execute_result"
    }
   ],
   "source": [
    "my_dataset=df.copy()\n",
    "my_dataset.head()"
   ]
  },
  {
   "cell_type": "code",
   "execution_count": 17,
   "id": "86bf4aae",
   "metadata": {},
   "outputs": [
    {
     "data": {
      "text/plain": [
       "(100, 7)"
      ]
     },
     "execution_count": 17,
     "metadata": {},
     "output_type": "execute_result"
    }
   ],
   "source": [
    "#how many data points(rows) and features(columns) we have?\n",
    "my_dataset.shape"
   ]
  },
  {
   "cell_type": "code",
   "execution_count": 18,
   "id": "7d772803",
   "metadata": {},
   "outputs": [
    {
     "data": {
      "text/plain": [
       "Index(['Employee Id', 'First Name', 'Last Name', 'Department', 'Age',\n",
       "       'Experience', 'Salary'],\n",
       "      dtype='object')"
      ]
     },
     "execution_count": 18,
     "metadata": {},
     "output_type": "execute_result"
    }
   ],
   "source": [
    "#Q:what are the columns name given in our dataset?\n",
    "my_dataset.columns"
   ]
  },
  {
   "cell_type": "code",
   "execution_count": 19,
   "id": "b8dba37d",
   "metadata": {},
   "outputs": [
    {
     "name": "stdout",
     "output_type": "stream",
     "text": [
      "<class 'pandas.core.frame.DataFrame'>\n",
      "RangeIndex: 100 entries, 0 to 99\n",
      "Data columns (total 7 columns):\n",
      " #   Column       Non-Null Count  Dtype  \n",
      "---  ------       --------------  -----  \n",
      " 0   Employee Id  100 non-null    int64  \n",
      " 1   First Name   100 non-null    object \n",
      " 2   Last Name    100 non-null    object \n",
      " 3   Department   81 non-null     object \n",
      " 4   Age          82 non-null     float64\n",
      " 5   Experience   90 non-null     float64\n",
      " 6   Salary       100 non-null    int64  \n",
      "dtypes: float64(2), int64(2), object(3)\n",
      "memory usage: 5.6+ KB\n"
     ]
    }
   ],
   "source": [
    "#Q:what are the datatype we have?\n",
    "my_dataset.info()"
   ]
  },
  {
   "cell_type": "code",
   "execution_count": 20,
   "id": "714df54c",
   "metadata": {},
   "outputs": [
    {
     "data": {
      "text/plain": [
       "Employee Id     0.0\n",
       "First Name      0.0\n",
       "Last Name       0.0\n",
       "Department     19.0\n",
       "Age            18.0\n",
       "Experience     10.0\n",
       "Salary          0.0\n",
       "dtype: float64"
      ]
     },
     "execution_count": 20,
     "metadata": {},
     "output_type": "execute_result"
    }
   ],
   "source": [
    "#Pre-processing\n",
    "#Part-1:handling missing values\n",
    "my_dataset.isnull().sum()/len(my_dataset)*100\n"
   ]
  },
  {
   "cell_type": "code",
   "execution_count": 21,
   "id": "64091c8d",
   "metadata": {},
   "outputs": [
    {
     "data": {
      "text/plain": [
       "Sales and Marketing    30\n",
       "Accounting             27\n",
       "Customer Relations     24\n",
       "Name: Department, dtype: int64"
      ]
     },
     "execution_count": 21,
     "metadata": {},
     "output_type": "execute_result"
    }
   ],
   "source": [
    "#missing data is less than 25 % so imputation is required in missing variables\n",
    "#Department-object-mode-most frequent occurance\n",
    "#age and experience-number\n",
    "my_dataset['Department'].value_counts()"
   ]
  },
  {
   "cell_type": "code",
   "execution_count": 22,
   "id": "5370cf92",
   "metadata": {},
   "outputs": [
    {
     "data": {
      "text/plain": [
       "Employee Id     0\n",
       "First Name      0\n",
       "Last Name       0\n",
       "Department      0\n",
       "Age            18\n",
       "Experience     10\n",
       "Salary          0\n",
       "dtype: int64"
      ]
     },
     "execution_count": 22,
     "metadata": {},
     "output_type": "execute_result"
    }
   ],
   "source": [
    "my_dataset['Department']=my_dataset['Department'].fillna('Sales and Marketing')\n",
    "my_dataset.isnull().sum()"
   ]
  },
  {
   "cell_type": "code",
   "execution_count": 23,
   "id": "a80783cc",
   "metadata": {},
   "outputs": [
    {
     "data": {
      "text/plain": [
       "Sales and Marketing    49\n",
       "Accounting             27\n",
       "Customer Relations     24\n",
       "Name: Department, dtype: int64"
      ]
     },
     "execution_count": 23,
     "metadata": {},
     "output_type": "execute_result"
    }
   ],
   "source": [
    "my_dataset['Department'].value_counts()"
   ]
  },
  {
   "cell_type": "code",
   "execution_count": 24,
   "id": "57270af2",
   "metadata": {},
   "outputs": [
    {
     "data": {
      "text/plain": [
       "Employee Id    0\n",
       "First Name     0\n",
       "Last Name      0\n",
       "Department     0\n",
       "Age            0\n",
       "Experience     0\n",
       "Salary         0\n",
       "dtype: int64"
      ]
     },
     "execution_count": 24,
     "metadata": {},
     "output_type": "execute_result"
    },
    {
     "data": {
      "image/png": "[encoded data removed]",
      "text/plain": [
       "<Figure size 432x288 with 1 Axes>"
      ]
     },
     "metadata": {},
     "output_type": "display_data"
    }
   ],
   "source": [
    "#Age and experience-numerical variable\n",
    "#mean or median-check outlier\n",
    "#if outlier found-median and if no outlier-mean\n",
    "sns.boxplot(x='Age',data=my_dataset)\n",
    "#Age-mean\n",
    "my_dataset['Department']=my_dataset['Department'].fillna('Sales and Marketing')\n",
    "my_dataset['Age']=my_dataset['Age'].fillna(my_dataset['Age'].mean())\n",
    "my_dataset['Experience']=my_dataset['Experience'].fillna(my_dataset['Experience'].mean())\n",
    "\n",
    "my_dataset.isnull().sum()"
   ]
  },
  {
   "cell_type": "code",
   "execution_count": 25,
   "id": "f89a6e5a",
   "metadata": {},
   "outputs": [
    {
     "data": {
      "image/png": "[encoded data removed]",
      "text/plain": [
       "<Figure size 432x288 with 1 Axes>"
      ]
     },
     "metadata": {},
     "output_type": "display_data"
    }
   ],
   "source": [
    "sns.boxplot(y='Experience',data=my_dataset)\n",
    "plt.show()\n",
    "#experience-mean"
   ]
  },
  {
   "cell_type": "code",
   "execution_count": 26,
   "id": "457645c6",
   "metadata": {},
   "outputs": [
    {
     "data": {
      "text/html": [
       "<div>\n",
       "<style scoped>\n",
       "    .dataframe tbody tr th:only-of-type {\n",
       "        vertical-align: middle;\n",
       "    }\n",
       "\n",
       "    .dataframe tbody tr th {\n",
       "        vertical-align: top;\n",
       "    }\n",
       "\n",
       "    .dataframe thead th {\n",
       "        text-align: right;\n",
       "    }\n",
       "</style>\n",
       "<table border=\"1\" class=\"dataframe\">\n",
       "  <thead>\n",
       "    <tr style=\"text-align: right;\">\n",
       "      <th></th>\n",
       "      <th>Age</th>\n",
       "      <th>Experience</th>\n",
       "      <th>Salary</th>\n",
       "    </tr>\n",
       "  </thead>\n",
       "  <tbody>\n",
       "    <tr>\n",
       "      <th>0</th>\n",
       "      <td>28.0</td>\n",
       "      <td>3.0</td>\n",
       "      <td>32889</td>\n",
       "    </tr>\n",
       "    <tr>\n",
       "      <th>1</th>\n",
       "      <td>22.0</td>\n",
       "      <td>1.0</td>\n",
       "      <td>15944</td>\n",
       "    </tr>\n",
       "    <tr>\n",
       "      <th>2</th>\n",
       "      <td>22.0</td>\n",
       "      <td>1.0</td>\n",
       "      <td>40343</td>\n",
       "    </tr>\n",
       "    <tr>\n",
       "      <th>3</th>\n",
       "      <td>22.0</td>\n",
       "      <td>1.0</td>\n",
       "      <td>19018</td>\n",
       "    </tr>\n",
       "    <tr>\n",
       "      <th>4</th>\n",
       "      <td>27.0</td>\n",
       "      <td>0.0</td>\n",
       "      <td>24795</td>\n",
       "    </tr>\n",
       "    <tr>\n",
       "      <th>...</th>\n",
       "      <td>...</td>\n",
       "      <td>...</td>\n",
       "      <td>...</td>\n",
       "    </tr>\n",
       "    <tr>\n",
       "      <th>95</th>\n",
       "      <td>47.0</td>\n",
       "      <td>22.0</td>\n",
       "      <td>79077</td>\n",
       "    </tr>\n",
       "    <tr>\n",
       "      <th>96</th>\n",
       "      <td>46.0</td>\n",
       "      <td>20.0</td>\n",
       "      <td>81187</td>\n",
       "    </tr>\n",
       "    <tr>\n",
       "      <th>97</th>\n",
       "      <td>44.0</td>\n",
       "      <td>18.0</td>\n",
       "      <td>83847</td>\n",
       "    </tr>\n",
       "    <tr>\n",
       "      <th>98</th>\n",
       "      <td>47.0</td>\n",
       "      <td>22.0</td>\n",
       "      <td>89158</td>\n",
       "    </tr>\n",
       "    <tr>\n",
       "      <th>99</th>\n",
       "      <td>44.0</td>\n",
       "      <td>21.0</td>\n",
       "      <td>91645</td>\n",
       "    </tr>\n",
       "  </tbody>\n",
       "</table>\n",
       "<p>100 rows × 3 columns</p>\n",
       "</div>"
      ],
      "text/plain": [
       "     Age  Experience  Salary\n",
       "0   28.0         3.0   32889\n",
       "1   22.0         1.0   15944\n",
       "2   22.0         1.0   40343\n",
       "3   22.0         1.0   19018\n",
       "4   27.0         0.0   24795\n",
       "..   ...         ...     ...\n",
       "95  47.0        22.0   79077\n",
       "96  46.0        20.0   81187\n",
       "97  44.0        18.0   83847\n",
       "98  47.0        22.0   89158\n",
       "99  44.0        21.0   91645\n",
       "\n",
       "[100 rows x 3 columns]"
      ]
     },
     "execution_count": 26,
     "metadata": {},
     "output_type": "execute_result"
    }
   ],
   "source": [
    "x=my_dataset.iloc[:,4:]\n",
    "x"
   ]
  },
  {
   "cell_type": "code",
   "execution_count": 27,
   "id": "69eaf009",
   "metadata": {},
   "outputs": [
    {
     "data": {
      "text/plain": [
       "array([[2.80000000e+01, 3.00000000e+00, 3.28890000e+04],\n",
       "       [2.20000000e+01, 1.00000000e+00, 1.59440000e+04],\n",
       "       [2.20000000e+01, 1.00000000e+00, 4.03430000e+04],\n",
       "       [2.20000000e+01, 1.00000000e+00, 1.90180000e+04],\n",
       "       [2.70000000e+01, 0.00000000e+00, 2.47950000e+04],\n",
       "       [2.60000000e+01, 5.00000000e+00, 1.53870000e+04],\n",
       "       [2.40000000e+01, 6.00000000e+00, 3.41170000e+04],\n",
       "       [2.90000000e+01, 2.00000000e+00, 1.60990000e+04],\n",
       "       [2.90000000e+01, 5.00000000e+00, 4.21050000e+04],\n",
       "       [3.00000000e+01, 6.00000000e+00, 1.18910000e+04],\n",
       "       [2.60000000e+01, 5.00000000e+00, 3.46870000e+04],\n",
       "       [2.60000000e+01, 6.00000000e+00, 2.35490000e+04],\n",
       "       [2.40000000e+01, 5.00000000e+00, 2.91100000e+04],\n",
       "       [2.20000000e+01, 2.00000000e+00, 3.34350000e+04],\n",
       "       [2.50000000e+01, 3.00000000e+00, 1.18300000e+04],\n",
       "       [2.50000000e+01, 1.47666667e+01, 4.40650000e+04],\n",
       "       [2.20000000e+01, 1.47666667e+01, 1.32660000e+04],\n",
       "       [2.50000000e+01, 1.47666667e+01, 1.66310000e+04],\n",
       "       [2.70000000e+01, 1.47666667e+01, 2.98860000e+04],\n",
       "       [2.50000000e+01, 1.47666667e+01, 3.04640000e+04],\n",
       "       [2.20000000e+01, 1.47666667e+01, 1.49430000e+04],\n",
       "       [2.20000000e+01, 1.47666667e+01, 1.86320000e+04],\n",
       "       [2.40000000e+01, 1.47666667e+01, 3.81830000e+04],\n",
       "       [2.70000000e+01, 1.47666667e+01, 4.30930000e+04],\n",
       "       [2.20000000e+01, 1.47666667e+01, 2.65730000e+04],\n",
       "       [3.30000000e+01, 1.30000000e+01, 5.12280000e+04],\n",
       "       [3.60000000e+01, 7.00000000e+00, 5.79020000e+04],\n",
       "       [3.50000000e+01, 1.00000000e+01, 5.42330000e+04],\n",
       "       [3.30000000e+01, 1.20000000e+01, 7.00100000e+04],\n",
       "       [3.00000000e+01, 1.40000000e+01, 7.46830000e+04],\n",
       "       [4.00000000e+01, 1.50000000e+01, 5.38670000e+04],\n",
       "       [3.90000000e+01, 1.20000000e+01, 6.01170000e+04],\n",
       "       [3.79756098e+01, 9.00000000e+00, 7.20550000e+04],\n",
       "       [3.79756098e+01, 7.00000000e+00, 5.00130000e+04],\n",
       "       [3.79756098e+01, 1.50000000e+01, 5.01180000e+04],\n",
       "       [3.79756098e+01, 1.10000000e+01, 7.23180000e+04],\n",
       "       [3.79756098e+01, 1.00000000e+01, 5.38280000e+04],\n",
       "       [3.79756098e+01, 7.00000000e+00, 5.83620000e+04],\n",
       "       [3.79756098e+01, 1.30000000e+01, 6.33910000e+04],\n",
       "       [3.79756098e+01, 9.00000000e+00, 6.29830000e+04],\n",
       "       [3.79756098e+01, 8.00000000e+00, 6.59390000e+04],\n",
       "       [3.79756098e+01, 1.20000000e+01, 5.17150000e+04],\n",
       "       [3.79756098e+01, 9.00000000e+00, 5.42500000e+04],\n",
       "       [3.79756098e+01, 1.20000000e+01, 5.04620000e+04],\n",
       "       [3.79756098e+01, 1.50000000e+01, 6.44180000e+04],\n",
       "       [3.79756098e+01, 1.40000000e+01, 6.01640000e+04],\n",
       "       [3.79756098e+01, 1.00000000e+01, 6.65280000e+04],\n",
       "       [3.79756098e+01, 8.00000000e+00, 5.72780000e+04],\n",
       "       [3.79756098e+01, 1.20000000e+01, 7.16070000e+04],\n",
       "       [3.79756098e+01, 1.50000000e+01, 6.12220000e+04],\n",
       "       [3.80000000e+01, 1.40000000e+01, 6.83880000e+04],\n",
       "       [4.10000000e+01, 2.50000000e+01, 9.47040000e+04],\n",
       "       [4.40000000e+01, 1.70000000e+01, 8.94930000e+04],\n",
       "       [4.10000000e+01, 1.70000000e+01, 9.43100000e+04],\n",
       "       [5.00000000e+01, 2.10000000e+01, 8.16150000e+04],\n",
       "       [4.70000000e+01, 1.90000000e+01, 8.43060000e+04],\n",
       "       [4.30000000e+01, 2.50000000e+01, 7.74520000e+04],\n",
       "       [4.80000000e+01, 2.50000000e+01, 7.69040000e+04],\n",
       "       [4.60000000e+01, 2.20000000e+01, 9.07980000e+04],\n",
       "       [4.40000000e+01, 1.60000000e+01, 8.62610000e+04],\n",
       "       [4.20000000e+01, 2.10000000e+01, 7.83320000e+04],\n",
       "       [4.40000000e+01, 1.90000000e+01, 8.48810000e+04],\n",
       "       [4.90000000e+01, 1.60000000e+01, 7.65280000e+04],\n",
       "       [4.40000000e+01, 1.80000000e+01, 8.35240000e+04],\n",
       "       [4.90000000e+01, 2.20000000e+01, 8.92580000e+04],\n",
       "       [4.40000000e+01, 1.70000000e+01, 7.54310000e+04],\n",
       "       [4.80000000e+01, 1.60000000e+01, 9.18700000e+04],\n",
       "       [4.70000000e+01, 2.30000000e+01, 7.67080000e+04],\n",
       "       [5.00000000e+01, 2.20000000e+01, 9.52220000e+04],\n",
       "       [4.20000000e+01, 1.90000000e+01, 9.08020000e+04],\n",
       "       [4.80000000e+01, 1.90000000e+01, 8.62770000e+04],\n",
       "       [4.60000000e+01, 2.40000000e+01, 7.73300000e+04],\n",
       "       [4.20000000e+01, 2.30000000e+01, 8.52860000e+04],\n",
       "       [4.50000000e+01, 2.20000000e+01, 9.09300000e+04],\n",
       "       [4.80000000e+01, 1.70000000e+01, 8.88330000e+04],\n",
       "       [4.10000000e+01, 2.30000000e+01, 9.59080000e+04],\n",
       "       [4.90000000e+01, 1.90000000e+01, 9.23650000e+04],\n",
       "       [4.10000000e+01, 2.20000000e+01, 9.38540000e+04],\n",
       "       [4.20000000e+01, 2.40000000e+01, 8.53360000e+04],\n",
       "       [4.10000000e+01, 2.20000000e+01, 7.98980000e+04],\n",
       "       [4.50000000e+01, 2.10000000e+01, 8.47080000e+04],\n",
       "       [4.30000000e+01, 1.60000000e+01, 8.83810000e+04],\n",
       "       [4.60000000e+01, 1.80000000e+01, 9.32060000e+04],\n",
       "       [4.70000000e+01, 2.00000000e+01, 9.17950000e+04],\n",
       "       [4.50000000e+01, 1.70000000e+01, 9.64320000e+04],\n",
       "       [4.20000000e+01, 1.70000000e+01, 8.33000000e+04],\n",
       "       [4.40000000e+01, 2.10000000e+01, 9.47780000e+04],\n",
       "       [4.50000000e+01, 1.90000000e+01, 8.22830000e+04],\n",
       "       [4.40000000e+01, 2.10000000e+01, 9.70560000e+04],\n",
       "       [4.70000000e+01, 2.00000000e+01, 8.76540000e+04],\n",
       "       [4.40000000e+01, 1.90000000e+01, 8.98750000e+04],\n",
       "       [4.40000000e+01, 1.80000000e+01, 9.81800000e+04],\n",
       "       [4.10000000e+01, 1.70000000e+01, 8.41850000e+04],\n",
       "       [4.80000000e+01, 2.10000000e+01, 7.95090000e+04],\n",
       "       [4.80000000e+01, 2.20000000e+01, 9.79900000e+04],\n",
       "       [4.70000000e+01, 2.20000000e+01, 7.90770000e+04],\n",
       "       [4.60000000e+01, 2.00000000e+01, 8.11870000e+04],\n",
       "       [4.40000000e+01, 1.80000000e+01, 8.38470000e+04],\n",
       "       [4.70000000e+01, 2.20000000e+01, 8.91580000e+04],\n",
       "       [4.40000000e+01, 2.10000000e+01, 9.16450000e+04]])"
      ]
     },
     "execution_count": 27,
     "metadata": {},
     "output_type": "execute_result"
    }
   ],
   "source": [
    "#converting into numpy values\n",
    "x=my_dataset.iloc[:,4:].values\n",
    "x"
   ]
  },
  {
   "cell_type": "code",
   "execution_count": 28,
   "id": "136d4c7f",
   "metadata": {},
   "outputs": [],
   "source": [
    "#using sklearn to handle missing data\n",
    "from sklearn.impute import SimpleImputer\n",
    "y=SimpleImputer(missing_values=np.nan, strategy='mean' )\n",
    "x=y.fit_transform(x)"
   ]
  },
  {
   "cell_type": "code",
   "execution_count": 29,
   "id": "70d8ce30",
   "metadata": {},
   "outputs": [
    {
     "data": {
      "text/plain": [
       "0    0\n",
       "1    0\n",
       "2    0\n",
       "dtype: int64"
      ]
     },
     "execution_count": 29,
     "metadata": {},
     "output_type": "execute_result"
    }
   ],
   "source": [
    "pd.DataFrame(x).isnull().sum()"
   ]
  },
  {
   "cell_type": "markdown",
   "id": "154482bc",
   "metadata": {},
   "source": [
    "## Encoding part\n",
    "character to number"
   ]
  },
  {
   "cell_type": "code",
   "execution_count": 30,
   "id": "a436cbee",
   "metadata": {},
   "outputs": [
    {
     "data": {
      "text/html": [
       "<div>\n",
       "<style scoped>\n",
       "    .dataframe tbody tr th:only-of-type {\n",
       "        vertical-align: middle;\n",
       "    }\n",
       "\n",
       "    .dataframe tbody tr th {\n",
       "        vertical-align: top;\n",
       "    }\n",
       "\n",
       "    .dataframe thead th {\n",
       "        text-align: right;\n",
       "    }\n",
       "</style>\n",
       "<table border=\"1\" class=\"dataframe\">\n",
       "  <thead>\n",
       "    <tr style=\"text-align: right;\">\n",
       "      <th></th>\n",
       "      <th>Employee Id</th>\n",
       "      <th>First Name</th>\n",
       "      <th>Last Name</th>\n",
       "      <th>Department</th>\n",
       "      <th>Age</th>\n",
       "      <th>Experience</th>\n",
       "      <th>Salary</th>\n",
       "    </tr>\n",
       "  </thead>\n",
       "  <tbody>\n",
       "    <tr>\n",
       "      <th>0</th>\n",
       "      <td>1</td>\n",
       "      <td>Joy</td>\n",
       "      <td>Bass</td>\n",
       "      <td>Sales and Marketing</td>\n",
       "      <td>28.0</td>\n",
       "      <td>3.0</td>\n",
       "      <td>32889</td>\n",
       "    </tr>\n",
       "    <tr>\n",
       "      <th>1</th>\n",
       "      <td>2</td>\n",
       "      <td>Sheila</td>\n",
       "      <td>Garza</td>\n",
       "      <td>Sales and Marketing</td>\n",
       "      <td>22.0</td>\n",
       "      <td>1.0</td>\n",
       "      <td>15944</td>\n",
       "    </tr>\n",
       "    <tr>\n",
       "      <th>2</th>\n",
       "      <td>3</td>\n",
       "      <td>John</td>\n",
       "      <td>Bryant</td>\n",
       "      <td>Customer Relations</td>\n",
       "      <td>22.0</td>\n",
       "      <td>1.0</td>\n",
       "      <td>40343</td>\n",
       "    </tr>\n",
       "    <tr>\n",
       "      <th>3</th>\n",
       "      <td>4</td>\n",
       "      <td>Christian</td>\n",
       "      <td>Farley</td>\n",
       "      <td>Customer Relations</td>\n",
       "      <td>22.0</td>\n",
       "      <td>1.0</td>\n",
       "      <td>19018</td>\n",
       "    </tr>\n",
       "    <tr>\n",
       "      <th>4</th>\n",
       "      <td>5</td>\n",
       "      <td>Colorado</td>\n",
       "      <td>Bowen</td>\n",
       "      <td>Accounting</td>\n",
       "      <td>27.0</td>\n",
       "      <td>0.0</td>\n",
       "      <td>24795</td>\n",
       "    </tr>\n",
       "  </tbody>\n",
       "</table>\n",
       "</div>"
      ],
      "text/plain": [
       "   Employee Id First Name Last Name           Department   Age  Experience  \\\n",
       "0            1        Joy      Bass  Sales and Marketing  28.0         3.0   \n",
       "1            2     Sheila     Garza  Sales and Marketing  22.0         1.0   \n",
       "2            3       John    Bryant   Customer Relations  22.0         1.0   \n",
       "3            4  Christian    Farley   Customer Relations  22.0         1.0   \n",
       "4            5   Colorado     Bowen           Accounting  27.0         0.0   \n",
       "\n",
       "   Salary  \n",
       "0   32889  \n",
       "1   15944  \n",
       "2   40343  \n",
       "3   19018  \n",
       "4   24795  "
      ]
     },
     "execution_count": 30,
     "metadata": {},
     "output_type": "execute_result"
    }
   ],
   "source": [
    "my_dataset.head()"
   ]
  },
  {
   "cell_type": "code",
   "execution_count": 31,
   "id": "e0467c3e",
   "metadata": {},
   "outputs": [
    {
     "data": {
      "text/html": [
       "<div>\n",
       "<style scoped>\n",
       "    .dataframe tbody tr th:only-of-type {\n",
       "        vertical-align: middle;\n",
       "    }\n",
       "\n",
       "    .dataframe tbody tr th {\n",
       "        vertical-align: top;\n",
       "    }\n",
       "\n",
       "    .dataframe thead th {\n",
       "        text-align: right;\n",
       "    }\n",
       "</style>\n",
       "<table border=\"1\" class=\"dataframe\">\n",
       "  <thead>\n",
       "    <tr style=\"text-align: right;\">\n",
       "      <th></th>\n",
       "      <th>Department</th>\n",
       "      <th>Age</th>\n",
       "      <th>Experience</th>\n",
       "      <th>Salary</th>\n",
       "    </tr>\n",
       "  </thead>\n",
       "  <tbody>\n",
       "    <tr>\n",
       "      <th>0</th>\n",
       "      <td>Sales and Marketing</td>\n",
       "      <td>28.0</td>\n",
       "      <td>3.0</td>\n",
       "      <td>32889</td>\n",
       "    </tr>\n",
       "    <tr>\n",
       "      <th>1</th>\n",
       "      <td>Sales and Marketing</td>\n",
       "      <td>22.0</td>\n",
       "      <td>1.0</td>\n",
       "      <td>15944</td>\n",
       "    </tr>\n",
       "    <tr>\n",
       "      <th>2</th>\n",
       "      <td>Customer Relations</td>\n",
       "      <td>22.0</td>\n",
       "      <td>1.0</td>\n",
       "      <td>40343</td>\n",
       "    </tr>\n",
       "    <tr>\n",
       "      <th>3</th>\n",
       "      <td>Customer Relations</td>\n",
       "      <td>22.0</td>\n",
       "      <td>1.0</td>\n",
       "      <td>19018</td>\n",
       "    </tr>\n",
       "    <tr>\n",
       "      <th>4</th>\n",
       "      <td>Accounting</td>\n",
       "      <td>27.0</td>\n",
       "      <td>0.0</td>\n",
       "      <td>24795</td>\n",
       "    </tr>\n",
       "  </tbody>\n",
       "</table>\n",
       "</div>"
      ],
      "text/plain": [
       "            Department   Age  Experience  Salary\n",
       "0  Sales and Marketing  28.0         3.0   32889\n",
       "1  Sales and Marketing  22.0         1.0   15944\n",
       "2   Customer Relations  22.0         1.0   40343\n",
       "3   Customer Relations  22.0         1.0   19018\n",
       "4           Accounting  27.0         0.0   24795"
      ]
     },
     "execution_count": 31,
     "metadata": {},
     "output_type": "execute_result"
    }
   ],
   "source": [
    "dataset_1=my_dataset.iloc[:,3:]\n",
    "dataset_1.head()"
   ]
  },
  {
   "cell_type": "code",
   "execution_count": 32,
   "id": "bc8d46e8",
   "metadata": {},
   "outputs": [
    {
     "data": {
      "text/plain": [
       "Department    0\n",
       "Age           0\n",
       "Experience    0\n",
       "Salary        0\n",
       "dtype: int64"
      ]
     },
     "execution_count": 32,
     "metadata": {},
     "output_type": "execute_result"
    }
   ],
   "source": [
    "dataset_1.isnull().sum()"
   ]
  },
  {
   "cell_type": "code",
   "execution_count": 33,
   "id": "45abd20d",
   "metadata": {},
   "outputs": [
    {
     "name": "stdout",
     "output_type": "stream",
     "text": [
      "<class 'pandas.core.frame.DataFrame'>\n",
      "RangeIndex: 100 entries, 0 to 99\n",
      "Data columns (total 4 columns):\n",
      " #   Column      Non-Null Count  Dtype  \n",
      "---  ------      --------------  -----  \n",
      " 0   Department  100 non-null    object \n",
      " 1   Age         100 non-null    float64\n",
      " 2   Experience  100 non-null    float64\n",
      " 3   Salary      100 non-null    int64  \n",
      "dtypes: float64(2), int64(1), object(1)\n",
      "memory usage: 3.2+ KB\n"
     ]
    }
   ],
   "source": [
    "dataset_1.info()"
   ]
  },
  {
   "cell_type": "code",
   "execution_count": 34,
   "id": "665efcb3",
   "metadata": {},
   "outputs": [
    {
     "data": {
      "text/plain": [
       "Sales and Marketing    49\n",
       "Accounting             27\n",
       "Customer Relations     24\n",
       "Name: Department, dtype: int64"
      ]
     },
     "execution_count": 34,
     "metadata": {},
     "output_type": "execute_result"
    }
   ],
   "source": [
    "dataset_1['Department'].value_counts()"
   ]
  },
  {
   "cell_type": "code",
   "execution_count": 35,
   "id": "72c13258",
   "metadata": {},
   "outputs": [],
   "source": [
    "#label encoder\n",
    "dataset_1['Department']=dataset_1['Department'].astype('category')#type is category\n",
    "dataset_1['Department']=dataset_1['Department'].cat.codes#convert category to codes"
   ]
  },
  {
   "cell_type": "code",
   "execution_count": 36,
   "id": "3861d381",
   "metadata": {},
   "outputs": [
    {
     "data": {
      "text/html": [
       "<div>\n",
       "<style scoped>\n",
       "    .dataframe tbody tr th:only-of-type {\n",
       "        vertical-align: middle;\n",
       "    }\n",
       "\n",
       "    .dataframe tbody tr th {\n",
       "        vertical-align: top;\n",
       "    }\n",
       "\n",
       "    .dataframe thead th {\n",
       "        text-align: right;\n",
       "    }\n",
       "</style>\n",
       "<table border=\"1\" class=\"dataframe\">\n",
       "  <thead>\n",
       "    <tr style=\"text-align: right;\">\n",
       "      <th></th>\n",
       "      <th>Department</th>\n",
       "      <th>Age</th>\n",
       "      <th>Experience</th>\n",
       "      <th>Salary</th>\n",
       "    </tr>\n",
       "  </thead>\n",
       "  <tbody>\n",
       "    <tr>\n",
       "      <th>0</th>\n",
       "      <td>2</td>\n",
       "      <td>28.0</td>\n",
       "      <td>3.0</td>\n",
       "      <td>32889</td>\n",
       "    </tr>\n",
       "    <tr>\n",
       "      <th>1</th>\n",
       "      <td>2</td>\n",
       "      <td>22.0</td>\n",
       "      <td>1.0</td>\n",
       "      <td>15944</td>\n",
       "    </tr>\n",
       "    <tr>\n",
       "      <th>2</th>\n",
       "      <td>1</td>\n",
       "      <td>22.0</td>\n",
       "      <td>1.0</td>\n",
       "      <td>40343</td>\n",
       "    </tr>\n",
       "    <tr>\n",
       "      <th>3</th>\n",
       "      <td>1</td>\n",
       "      <td>22.0</td>\n",
       "      <td>1.0</td>\n",
       "      <td>19018</td>\n",
       "    </tr>\n",
       "    <tr>\n",
       "      <th>4</th>\n",
       "      <td>0</td>\n",
       "      <td>27.0</td>\n",
       "      <td>0.0</td>\n",
       "      <td>24795</td>\n",
       "    </tr>\n",
       "  </tbody>\n",
       "</table>\n",
       "</div>"
      ],
      "text/plain": [
       "   Department   Age  Experience  Salary\n",
       "0           2  28.0         3.0   32889\n",
       "1           2  22.0         1.0   15944\n",
       "2           1  22.0         1.0   40343\n",
       "3           1  22.0         1.0   19018\n",
       "4           0  27.0         0.0   24795"
      ]
     },
     "execution_count": 36,
     "metadata": {},
     "output_type": "execute_result"
    }
   ],
   "source": [
    "dataset_1.head()"
   ]
  },
  {
   "cell_type": "code",
   "execution_count": 37,
   "id": "5aa6fc32",
   "metadata": {},
   "outputs": [],
   "source": [
    "#one hot encoder\n",
    "dataset_1=pd.get_dummies(dataset_1,columns=['Department'])"
   ]
  },
  {
   "cell_type": "code",
   "execution_count": 38,
   "id": "47e475ef",
   "metadata": {},
   "outputs": [
    {
     "data": {
      "text/html": [
       "<div>\n",
       "<style scoped>\n",
       "    .dataframe tbody tr th:only-of-type {\n",
       "        vertical-align: middle;\n",
       "    }\n",
       "\n",
       "    .dataframe tbody tr th {\n",
       "        vertical-align: top;\n",
       "    }\n",
       "\n",
       "    .dataframe thead th {\n",
       "        text-align: right;\n",
       "    }\n",
       "</style>\n",
       "<table border=\"1\" class=\"dataframe\">\n",
       "  <thead>\n",
       "    <tr style=\"text-align: right;\">\n",
       "      <th></th>\n",
       "      <th>Age</th>\n",
       "      <th>Experience</th>\n",
       "      <th>Salary</th>\n",
       "      <th>Department_0</th>\n",
       "      <th>Department_1</th>\n",
       "      <th>Department_2</th>\n",
       "    </tr>\n",
       "  </thead>\n",
       "  <tbody>\n",
       "    <tr>\n",
       "      <th>0</th>\n",
       "      <td>28.0</td>\n",
       "      <td>3.0</td>\n",
       "      <td>32889</td>\n",
       "      <td>0</td>\n",
       "      <td>0</td>\n",
       "      <td>1</td>\n",
       "    </tr>\n",
       "    <tr>\n",
       "      <th>1</th>\n",
       "      <td>22.0</td>\n",
       "      <td>1.0</td>\n",
       "      <td>15944</td>\n",
       "      <td>0</td>\n",
       "      <td>0</td>\n",
       "      <td>1</td>\n",
       "    </tr>\n",
       "    <tr>\n",
       "      <th>2</th>\n",
       "      <td>22.0</td>\n",
       "      <td>1.0</td>\n",
       "      <td>40343</td>\n",
       "      <td>0</td>\n",
       "      <td>1</td>\n",
       "      <td>0</td>\n",
       "    </tr>\n",
       "    <tr>\n",
       "      <th>3</th>\n",
       "      <td>22.0</td>\n",
       "      <td>1.0</td>\n",
       "      <td>19018</td>\n",
       "      <td>0</td>\n",
       "      <td>1</td>\n",
       "      <td>0</td>\n",
       "    </tr>\n",
       "    <tr>\n",
       "      <th>4</th>\n",
       "      <td>27.0</td>\n",
       "      <td>0.0</td>\n",
       "      <td>24795</td>\n",
       "      <td>1</td>\n",
       "      <td>0</td>\n",
       "      <td>0</td>\n",
       "    </tr>\n",
       "  </tbody>\n",
       "</table>\n",
       "</div>"
      ],
      "text/plain": [
       "    Age  Experience  Salary  Department_0  Department_1  Department_2\n",
       "0  28.0         3.0   32889             0             0             1\n",
       "1  22.0         1.0   15944             0             0             1\n",
       "2  22.0         1.0   40343             0             1             0\n",
       "3  22.0         1.0   19018             0             1             0\n",
       "4  27.0         0.0   24795             1             0             0"
      ]
     },
     "execution_count": 38,
     "metadata": {},
     "output_type": "execute_result"
    }
   ],
   "source": [
    "dataset_1.head()"
   ]
  },
  {
   "cell_type": "code",
   "execution_count": 39,
   "id": "ee8dc536",
   "metadata": {},
   "outputs": [
    {
     "data": {
      "text/html": [
       "<div>\n",
       "<style scoped>\n",
       "    .dataframe tbody tr th:only-of-type {\n",
       "        vertical-align: middle;\n",
       "    }\n",
       "\n",
       "    .dataframe tbody tr th {\n",
       "        vertical-align: top;\n",
       "    }\n",
       "\n",
       "    .dataframe thead th {\n",
       "        text-align: right;\n",
       "    }\n",
       "</style>\n",
       "<table border=\"1\" class=\"dataframe\">\n",
       "  <thead>\n",
       "    <tr style=\"text-align: right;\">\n",
       "      <th></th>\n",
       "      <th>Age</th>\n",
       "      <th>Experience</th>\n",
       "      <th>Salary</th>\n",
       "      <th>Department_0</th>\n",
       "      <th>Department_1</th>\n",
       "    </tr>\n",
       "  </thead>\n",
       "  <tbody>\n",
       "    <tr>\n",
       "      <th>0</th>\n",
       "      <td>28.0</td>\n",
       "      <td>3.0</td>\n",
       "      <td>32889</td>\n",
       "      <td>0</td>\n",
       "      <td>0</td>\n",
       "    </tr>\n",
       "    <tr>\n",
       "      <th>1</th>\n",
       "      <td>22.0</td>\n",
       "      <td>1.0</td>\n",
       "      <td>15944</td>\n",
       "      <td>0</td>\n",
       "      <td>0</td>\n",
       "    </tr>\n",
       "    <tr>\n",
       "      <th>2</th>\n",
       "      <td>22.0</td>\n",
       "      <td>1.0</td>\n",
       "      <td>40343</td>\n",
       "      <td>0</td>\n",
       "      <td>1</td>\n",
       "    </tr>\n",
       "    <tr>\n",
       "      <th>3</th>\n",
       "      <td>22.0</td>\n",
       "      <td>1.0</td>\n",
       "      <td>19018</td>\n",
       "      <td>0</td>\n",
       "      <td>1</td>\n",
       "    </tr>\n",
       "    <tr>\n",
       "      <th>4</th>\n",
       "      <td>27.0</td>\n",
       "      <td>0.0</td>\n",
       "      <td>24795</td>\n",
       "      <td>1</td>\n",
       "      <td>0</td>\n",
       "    </tr>\n",
       "  </tbody>\n",
       "</table>\n",
       "</div>"
      ],
      "text/plain": [
       "    Age  Experience  Salary  Department_0  Department_1\n",
       "0  28.0         3.0   32889             0             0\n",
       "1  22.0         1.0   15944             0             0\n",
       "2  22.0         1.0   40343             0             1\n",
       "3  22.0         1.0   19018             0             1\n",
       "4  27.0         0.0   24795             1             0"
      ]
     },
     "execution_count": 39,
     "metadata": {},
     "output_type": "execute_result"
    }
   ],
   "source": [
    "#Dummy variable\n",
    "dataset_1=dataset_1.drop(['Department_2'],axis=1)\n",
    "dataset_1.head()"
   ]
  },
  {
   "cell_type": "markdown",
   "id": "ec9b4688",
   "metadata": {},
   "source": [
    "## Feature scaling\n",
    "1)Standardization\n",
    "2)Normalization\n"
   ]
  },
  {
   "cell_type": "code",
   "execution_count": 40,
   "id": "9be01674",
   "metadata": {},
   "outputs": [],
   "source": [
    "#StandardScaler\n",
    "from sklearn.preprocessing import StandardScaler\n",
    "sc_x=StandardScaler()\n",
    "sc_x_1=sc_x.fit_transform(dataset_1) #fit means apply,transform is change"
   ]
  },
  {
   "cell_type": "code",
   "execution_count": 41,
   "id": "35057f87",
   "metadata": {},
   "outputs": [
    {
     "data": {
      "text/plain": [
       "array([[-1.16485118e+00, -1.81044925e+00, -1.23482325e+00,\n",
       "        -6.08163641e-01, -5.61951487e-01],\n",
       "       [-1.86547071e+00, -2.11817433e+00, -1.88508853e+00,\n",
       "        -6.08163641e-01, -5.61951487e-01],\n",
       "       [-1.86547071e+00, -2.11817433e+00, -9.48775604e-01,\n",
       "        -6.08163641e-01,  1.77951304e+00],\n",
       "       [-1.86547071e+00, -2.11817433e+00, -1.76712361e+00,\n",
       "        -6.08163641e-01,  1.77951304e+00],\n",
       "       [-1.28162110e+00, -2.27203688e+00, -1.54543093e+00,\n",
       "         1.64429429e+00, -5.61951487e-01],\n",
       "       [-1.39839102e+00, -1.50272416e+00, -1.90646343e+00,\n",
       "         1.64429429e+00, -5.61951487e-01],\n",
       "       [-1.63193087e+00, -1.34886162e+00, -1.18769869e+00,\n",
       "        -6.08163641e-01,  1.77951304e+00],\n",
       "       [-1.04808125e+00, -1.96431179e+00, -1.87914039e+00,\n",
       "        -6.08163641e-01,  1.77951304e+00],\n",
       "       [-1.04808125e+00, -1.50272416e+00, -8.81158761e-01,\n",
       "        -6.08163641e-01, -5.61951487e-01],\n",
       "       [-9.31311332e-01, -1.34886162e+00, -2.04062262e+00,\n",
       "        -6.08163641e-01,  1.77951304e+00],\n",
       "       [-1.39839102e+00, -1.50272416e+00, -1.16582491e+00,\n",
       "         1.64429429e+00, -5.61951487e-01],\n",
       "       [-1.39839102e+00, -1.34886162e+00, -1.59324625e+00,\n",
       "        -6.08163641e-01, -5.61951487e-01],\n",
       "       [-1.63193087e+00, -1.50272416e+00, -1.37984258e+00,\n",
       "         1.64429429e+00, -5.61951487e-01],\n",
       "       [-1.86547071e+00, -1.96431179e+00, -1.21387047e+00,\n",
       "         1.64429429e+00, -5.61951487e-01],\n",
       "       [-1.51516094e+00, -1.81044925e+00, -2.04296350e+00,\n",
       "        -6.08163641e-01, -5.61951487e-01],\n",
       "       [-1.51516094e+00,  2.73314780e-16, -8.05943657e-01,\n",
       "         1.64429429e+00, -5.61951487e-01],\n",
       "       [-1.86547071e+00,  2.73314780e-16, -1.98785692e+00,\n",
       "        -6.08163641e-01,  1.77951304e+00],\n",
       "       [-1.51516094e+00,  2.73314780e-16, -1.85872487e+00,\n",
       "         1.64429429e+00, -5.61951487e-01],\n",
       "       [-1.28162110e+00,  2.73314780e-16, -1.35006354e+00,\n",
       "         1.64429429e+00, -5.61951487e-01],\n",
       "       [-1.51516094e+00,  2.73314780e-16, -1.32788275e+00,\n",
       "        -6.08163641e-01, -5.61951487e-01],\n",
       "       [-1.86547071e+00,  2.73314780e-16, -1.92350195e+00,\n",
       "        -6.08163641e-01, -5.61951487e-01],\n",
       "       [-1.86547071e+00,  2.73314780e-16, -1.78193638e+00,\n",
       "        -6.08163641e-01, -5.61951487e-01],\n",
       "       [-1.63193087e+00,  2.73314780e-16, -1.03166572e+00,\n",
       "        -6.08163641e-01, -5.61951487e-01],\n",
       "       [-1.28162110e+00,  2.73314780e-16, -8.43244208e-01,\n",
       "        -6.08163641e-01, -5.61951487e-01],\n",
       "       [-1.86547071e+00,  2.73314780e-16, -1.47720009e+00,\n",
       "        -6.08163641e-01, -5.61951487e-01],\n",
       "       [-5.81001565e-01, -2.71823825e-01, -5.31063151e-01,\n",
       "        -6.08163641e-01, -5.61951487e-01],\n",
       "       [-2.30691798e-01, -1.19499908e+00, -2.74948046e-01,\n",
       "        -6.08163641e-01, -5.61951487e-01],\n",
       "       [-3.47461720e-01, -7.33411452e-01, -4.15746116e-01,\n",
       "        -6.08163641e-01, -5.61951487e-01],\n",
       "       [-5.81001565e-01, -4.25686367e-01,  1.89697098e-01,\n",
       "        -6.08163641e-01, -5.61951487e-01],\n",
       "       [-9.31311332e-01, -1.17961283e-01,  3.69023721e-01,\n",
       "        -6.08163641e-01, -5.61951487e-01],\n",
       "       [ 2.36387892e-01,  3.59012599e-02, -4.29791385e-01,\n",
       "        -6.08163641e-01, -5.61951487e-01],\n",
       "       [ 1.19617969e-01, -4.25686367e-01, -1.89947303e-01,\n",
       "        -6.08163641e-01, -5.61951487e-01],\n",
       "       [ 8.29700201e-16, -8.87273995e-01,  2.68174082e-01,\n",
       "        -6.08163641e-01, -5.61951487e-01],\n",
       "       [ 8.29700201e-16, -1.19499908e+00, -5.77688840e-01,\n",
       "        -6.08163641e-01, -5.61951487e-01],\n",
       "       [ 8.29700201e-16,  3.59012599e-02, -5.73659460e-01,\n",
       "        -6.08163641e-01, -5.61951487e-01],\n",
       "       [ 8.29700201e-16, -5.79548910e-01,  2.78266721e-01,\n",
       "        -6.08163641e-01, -5.61951487e-01],\n",
       "       [ 8.29700201e-16, -7.33411452e-01, -4.31288013e-01,\n",
       "        -6.08163641e-01, -5.61951487e-01],\n",
       "       [ 8.29700201e-16, -1.19499908e+00, -2.57295521e-01,\n",
       "        -6.08163641e-01, -5.61951487e-01],\n",
       "       [ 8.29700201e-16, -2.71823825e-01, -6.43073791e-02,\n",
       "        -6.08163641e-01, -5.61951487e-01],\n",
       "       [ 8.29700201e-16, -8.87273995e-01, -7.99644008e-02,\n",
       "        -6.08163641e-01, -5.61951487e-01],\n",
       "       [ 8.29700201e-16, -1.04113654e+00,  3.34722564e-02,\n",
       "        -6.08163641e-01,  1.77951304e+00],\n",
       "       [ 8.29700201e-16, -4.25686367e-01, -5.12374500e-01,\n",
       "         1.64429429e+00, -5.61951487e-01],\n",
       "       [ 8.29700201e-16, -8.87273995e-01, -4.15093740e-01,\n",
       "         1.64429429e+00, -5.61951487e-01],\n",
       "       [ 8.29700201e-16, -4.25686367e-01, -5.60458441e-01,\n",
       "        -6.08163641e-01, -5.61951487e-01],\n",
       "       [ 8.29700201e-16,  3.59012599e-02, -2.48961995e-02,\n",
       "        -6.08163641e-01, -5.61951487e-01],\n",
       "       [ 8.29700201e-16, -1.17961283e-01, -1.88143676e-01,\n",
       "        -6.08163641e-01,  1.77951304e+00],\n",
       "       [ 8.29700201e-16, -7.33411452e-01,  5.60751627e-02,\n",
       "        -6.08163641e-01, -5.61951487e-01],\n",
       "       [ 8.29700201e-16, -1.04113654e+00, -2.98894079e-01,\n",
       "        -6.08163641e-01,  1.77951304e+00],\n",
       "       [ 8.29700201e-16, -4.25686367e-01,  2.50982058e-01,\n",
       "        -6.08163641e-01,  1.77951304e+00],\n",
       "       [ 8.29700201e-16,  3.59012599e-02, -1.47542869e-01,\n",
       "        -6.08163641e-01,  1.77951304e+00],\n",
       "       [ 2.84804689e-03, -1.17961283e-01,  1.27452762e-01,\n",
       "        -6.08163641e-01, -5.61951487e-01],\n",
       "       [ 3.53157814e-01,  1.57452668e+00,  1.13733066e+00,\n",
       "         1.64429429e+00, -5.61951487e-01],\n",
       "       [ 7.03467581e-01,  3.43626345e-01,  9.37358259e-01,\n",
       "        -6.08163641e-01,  1.77951304e+00],\n",
       "       [ 3.53157814e-01,  3.43626345e-01,  1.12221089e+00,\n",
       "         1.64429429e+00, -5.61951487e-01],\n",
       "       [ 1.40408712e+00,  9.59076515e-01,  6.35039590e-01,\n",
       "        -6.08163641e-01, -5.61951487e-01],\n",
       "       [ 1.05377735e+00,  6.51351430e-01,  7.38306858e-01,\n",
       "        -6.08163641e-01, -5.61951487e-01],\n",
       "       [ 5.86697659e-01,  1.57452668e+00,  4.75284243e-01,\n",
       "         1.64429429e+00, -5.61951487e-01],\n",
       "       [ 1.17054727e+00,  1.57452668e+00,  4.54254714e-01,\n",
       "        -6.08163641e-01,  1.77951304e+00],\n",
       "       [ 9.37007426e-01,  1.11293906e+00,  9.87437703e-01,\n",
       "         1.64429429e+00, -5.61951487e-01],\n",
       "       [ 7.03467581e-01,  1.89763802e-01,  8.13330087e-01,\n",
       "        -6.08163641e-01,  1.77951304e+00],\n",
       "       [ 4.69927736e-01,  9.59076515e-01,  5.09054290e-01,\n",
       "         1.64429429e+00, -5.61951487e-01],\n",
       "       [ 7.03467581e-01,  6.51351430e-01,  7.60372513e-01,\n",
       "        -6.08163641e-01, -5.61951487e-01],\n",
       "       [ 1.28731719e+00,  1.89763802e-01,  4.39825694e-01,\n",
       "        -6.08163641e-01,  1.77951304e+00],\n",
       "       [ 7.03467581e-01,  4.97488887e-01,  7.08297566e-01,\n",
       "        -6.08163641e-01,  1.77951304e+00],\n",
       "       [ 1.28731719e+00,  1.11293906e+00,  9.28340121e-01,\n",
       "        -6.08163641e-01, -5.61951487e-01],\n",
       "       [ 7.03467581e-01,  3.43626345e-01,  3.97728261e-01,\n",
       "         1.64429429e+00, -5.61951487e-01],\n",
       "       [ 1.17054727e+00,  1.89763802e-01,  1.02857576e+00,\n",
       "        -6.08163641e-01, -5.61951487e-01],\n",
       "       [ 1.05377735e+00,  1.26680160e+00,  4.46733204e-01,\n",
       "        -6.08163641e-01,  1.77951304e+00],\n",
       "       [ 1.40408712e+00,  1.11293906e+00,  1.15720894e+00,\n",
       "        -6.08163641e-01,  1.77951304e+00],\n",
       "       [ 4.69927736e-01,  6.51351430e-01,  9.87591203e-01,\n",
       "        -6.08163641e-01, -5.61951487e-01],\n",
       "       [ 1.17054727e+00,  6.51351430e-01,  8.13944088e-01,\n",
       "         1.64429429e+00, -5.61951487e-01],\n",
       "       [ 9.37007426e-01,  1.42066414e+00,  4.70602487e-01,\n",
       "        -6.08163641e-01,  1.77951304e+00],\n",
       "       [ 4.69927736e-01,  1.26680160e+00,  7.75914410e-01,\n",
       "        -6.08163641e-01, -5.61951487e-01],\n",
       "       [ 8.20237504e-01,  1.11293906e+00,  9.92503210e-01,\n",
       "        -6.08163641e-01, -5.61951487e-01],\n",
       "       [ 1.17054727e+00,  3.43626345e-01,  9.12030724e-01,\n",
       "        -6.08163641e-01,  1.77951304e+00],\n",
       "       [ 3.53157814e-01,  1.26680160e+00,  1.18353422e+00,\n",
       "        -6.08163641e-01, -5.61951487e-01],\n",
       "       [ 1.28731719e+00,  6.51351430e-01,  1.04757141e+00,\n",
       "        -6.08163641e-01, -5.61951487e-01],\n",
       "       [ 3.53157814e-01,  1.11293906e+00,  1.10471187e+00,\n",
       "        -6.08163641e-01, -5.61951487e-01],\n",
       "       [ 4.69927736e-01,  1.42066414e+00,  7.77833163e-01,\n",
       "        -6.08163641e-01, -5.61951487e-01],\n",
       "       [ 3.53157814e-01,  1.11293906e+00,  5.69149623e-01,\n",
       "         1.64429429e+00, -5.61951487e-01],\n",
       "       [ 8.20237504e-01,  9.59076515e-01,  7.53733629e-01,\n",
       "         1.64429429e+00, -5.61951487e-01],\n",
       "       [ 5.86697659e-01,  1.89763802e-01,  8.94685199e-01,\n",
       "        -6.08163641e-01,  1.77951304e+00],\n",
       "       [ 9.37007426e-01,  4.97488887e-01,  1.07984483e+00,\n",
       "         1.64429429e+00, -5.61951487e-01],\n",
       "       [ 1.05377735e+00,  8.05213972e-01,  1.02569763e+00,\n",
       "        -6.08163641e-01, -5.61951487e-01],\n",
       "       [ 8.20237504e-01,  3.43626345e-01,  1.20364275e+00,\n",
       "         1.64429429e+00, -5.61951487e-01],\n",
       "       [ 4.69927736e-01,  3.43626345e-01,  6.99701554e-01,\n",
       "        -6.08163641e-01, -5.61951487e-01],\n",
       "       [ 7.03467581e-01,  9.59076515e-01,  1.14017041e+00,\n",
       "        -6.08163641e-01, -5.61951487e-01],\n",
       "       [ 8.20237504e-01,  6.51351430e-01,  6.60674125e-01,\n",
       "         1.64429429e+00, -5.61951487e-01],\n",
       "       [ 7.03467581e-01,  9.59076515e-01,  1.22758879e+00,\n",
       "         1.64429429e+00, -5.61951487e-01],\n",
       "       [ 1.05377735e+00,  8.05213972e-01,  8.66786536e-01,\n",
       "        -6.08163641e-01,  1.77951304e+00],\n",
       "       [ 7.03467581e-01,  6.51351430e-01,  9.52017529e-01,\n",
       "        -6.08163641e-01, -5.61951487e-01],\n",
       "       [ 7.03467581e-01,  4.97488887e-01,  1.27072235e+00,\n",
       "         1.64429429e+00, -5.61951487e-01],\n",
       "       [ 3.53157814e-01,  3.43626345e-01,  7.33663476e-01,\n",
       "        -6.08163641e-01, -5.61951487e-01],\n",
       "       [ 1.17054727e+00,  9.59076515e-01,  5.54221728e-01,\n",
       "         1.64429429e+00, -5.61951487e-01],\n",
       "       [ 1.17054727e+00,  1.11293906e+00,  1.26343109e+00,\n",
       "         1.64429429e+00, -5.61951487e-01],\n",
       "       [ 1.05377735e+00,  1.11293906e+00,  5.37643705e-01,\n",
       "        -6.08163641e-01, -5.61951487e-01],\n",
       "       [ 9.37007426e-01,  8.05213972e-01,  6.18615067e-01,\n",
       "        -6.08163641e-01, -5.61951487e-01],\n",
       "       [ 7.03467581e-01,  4.97488887e-01,  7.20692708e-01,\n",
       "        -6.08163641e-01,  1.77951304e+00],\n",
       "       [ 1.05377735e+00,  1.11293906e+00,  9.24502616e-01,\n",
       "        -6.08163641e-01,  1.77951304e+00],\n",
       "       [ 7.03467581e-01,  9.59076515e-01,  1.01994137e+00,\n",
       "         1.64429429e+00, -5.61951487e-01]])"
      ]
     },
     "execution_count": 41,
     "metadata": {},
     "output_type": "execute_result"
    }
   ],
   "source": [
    "sc_x_1"
   ]
  },
  {
   "cell_type": "code",
   "execution_count": 42,
   "id": "d2c1876c",
   "metadata": {},
   "outputs": [],
   "source": [
    "#Normalization\n",
    "from sklearn.preprocessing import Normalizer\n",
    "x_nor=Normalizer()\n"
   ]
  },
  {
   "cell_type": "markdown",
   "id": "6e471262",
   "metadata": {},
   "source": [
    "## CARS outlier treatment"
   ]
  },
  {
   "cell_type": "code",
   "execution_count": 43,
   "id": "34be4532",
   "metadata": {},
   "outputs": [
    {
     "data": {
      "text/html": [
       "<div>\n",
       "<style scoped>\n",
       "    .dataframe tbody tr th:only-of-type {\n",
       "        vertical-align: middle;\n",
       "    }\n",
       "\n",
       "    .dataframe tbody tr th {\n",
       "        vertical-align: top;\n",
       "    }\n",
       "\n",
       "    .dataframe thead th {\n",
       "        text-align: right;\n",
       "    }\n",
       "</style>\n",
       "<table border=\"1\" class=\"dataframe\">\n",
       "  <thead>\n",
       "    <tr style=\"text-align: right;\">\n",
       "      <th></th>\n",
       "      <th>INDEX</th>\n",
       "      <th>INCOME</th>\n",
       "      <th>MARITAL STATUS</th>\n",
       "      <th>SEX</th>\n",
       "      <th>EDUCATION</th>\n",
       "      <th>JOB</th>\n",
       "      <th>TRAVEL TIME</th>\n",
       "      <th>USE</th>\n",
       "      <th>MILES CLOCKED</th>\n",
       "      <th>CAR TYPE</th>\n",
       "      <th>CAR AGE</th>\n",
       "      <th>CITY</th>\n",
       "      <th>POSTAL CODE</th>\n",
       "    </tr>\n",
       "  </thead>\n",
       "  <tbody>\n",
       "    <tr>\n",
       "      <th>0</th>\n",
       "      <td>1</td>\n",
       "      <td>125301.24250</td>\n",
       "      <td>No</td>\n",
       "      <td>F</td>\n",
       "      <td>Bachelors</td>\n",
       "      <td>Blue Collar</td>\n",
       "      <td>45.703013</td>\n",
       "      <td>Commercial</td>\n",
       "      <td>17430.0</td>\n",
       "      <td>Sports Car</td>\n",
       "      <td>7.0</td>\n",
       "      <td>Texas</td>\n",
       "      <td>42420.0</td>\n",
       "    </tr>\n",
       "    <tr>\n",
       "      <th>1</th>\n",
       "      <td>2</td>\n",
       "      <td>50815.44531</td>\n",
       "      <td>No</td>\n",
       "      <td>M</td>\n",
       "      <td>High School</td>\n",
       "      <td>NaN</td>\n",
       "      <td>20.591628</td>\n",
       "      <td>Private</td>\n",
       "      <td>18930.0</td>\n",
       "      <td>Minivan</td>\n",
       "      <td>1.0</td>\n",
       "      <td>Texas</td>\n",
       "      <td>42420.0</td>\n",
       "    </tr>\n",
       "    <tr>\n",
       "      <th>2</th>\n",
       "      <td>3</td>\n",
       "      <td>62977.82416</td>\n",
       "      <td>NaN</td>\n",
       "      <td>F</td>\n",
       "      <td>Bachelors</td>\n",
       "      <td>Clerical</td>\n",
       "      <td>33.639949</td>\n",
       "      <td>Private</td>\n",
       "      <td>NaN</td>\n",
       "      <td>SUV</td>\n",
       "      <td>1.0</td>\n",
       "      <td>Texas</td>\n",
       "      <td>42420.0</td>\n",
       "    </tr>\n",
       "    <tr>\n",
       "      <th>3</th>\n",
       "      <td>4</td>\n",
       "      <td>77099.96624</td>\n",
       "      <td>No</td>\n",
       "      <td>F</td>\n",
       "      <td>NaN</td>\n",
       "      <td>Lawyer</td>\n",
       "      <td>15.415676</td>\n",
       "      <td>NaN</td>\n",
       "      <td>18300.0</td>\n",
       "      <td>Sports Car</td>\n",
       "      <td>11.0</td>\n",
       "      <td>Texas</td>\n",
       "      <td>42420.0</td>\n",
       "    </tr>\n",
       "    <tr>\n",
       "      <th>4</th>\n",
       "      <td>5</td>\n",
       "      <td>130794.57420</td>\n",
       "      <td>No</td>\n",
       "      <td>M</td>\n",
       "      <td>High School</td>\n",
       "      <td>NaN</td>\n",
       "      <td>NaN</td>\n",
       "      <td>Commercial</td>\n",
       "      <td>28340.0</td>\n",
       "      <td>Panel Truck</td>\n",
       "      <td>10.0</td>\n",
       "      <td>Texas</td>\n",
       "      <td>42420.0</td>\n",
       "    </tr>\n",
       "  </tbody>\n",
       "</table>\n",
       "</div>"
      ],
      "text/plain": [
       "   INDEX        INCOME MARITAL STATUS SEX    EDUCATION          JOB  \\\n",
       "0      1  125301.24250             No   F    Bachelors  Blue Collar   \n",
       "1      2   50815.44531             No   M  High School          NaN   \n",
       "2      3   62977.82416            NaN   F    Bachelors     Clerical   \n",
       "3      4   77099.96624             No   F          NaN       Lawyer   \n",
       "4      5  130794.57420             No   M  High School          NaN   \n",
       "\n",
       "   TRAVEL TIME         USE  MILES CLOCKED     CAR TYPE  CAR AGE   CITY  \\\n",
       "0    45.703013  Commercial        17430.0   Sports Car      7.0  Texas   \n",
       "1    20.591628     Private        18930.0      Minivan      1.0  Texas   \n",
       "2    33.639949     Private            NaN          SUV      1.0  Texas   \n",
       "3    15.415676         NaN        18300.0   Sports Car     11.0  Texas   \n",
       "4          NaN  Commercial        28340.0  Panel Truck     10.0  Texas   \n",
       "\n",
       "   POSTAL CODE  \n",
       "0      42420.0  \n",
       "1      42420.0  \n",
       "2      42420.0  \n",
       "3      42420.0  \n",
       "4      42420.0  "
      ]
     },
     "execution_count": 43,
     "metadata": {},
     "output_type": "execute_result"
    }
   ],
   "source": [
    "cars=pd.read_excel(\"EDA Cars.xlsx\")\n",
    "cars.head()"
   ]
  },
  {
   "cell_type": "code",
   "execution_count": 44,
   "id": "62d0d7ba",
   "metadata": {},
   "outputs": [
    {
     "data": {
      "text/plain": [
       "INDEX              0\n",
       "INCOME            43\n",
       "MARITAL STATUS    28\n",
       "SEX                6\n",
       "EDUCATION         44\n",
       "JOB               46\n",
       "TRAVEL TIME       41\n",
       "USE               53\n",
       "MILES CLOCKED     25\n",
       "CAR TYPE          10\n",
       "CAR AGE           20\n",
       "CITY               6\n",
       "POSTAL CODE        3\n",
       "dtype: int64"
      ]
     },
     "execution_count": 44,
     "metadata": {},
     "output_type": "execute_result"
    }
   ],
   "source": [
    "cars.isnull().sum()"
   ]
  },
  {
   "cell_type": "code",
   "execution_count": 45,
   "id": "883d00c9",
   "metadata": {},
   "outputs": [
    {
     "data": {
      "image/png": "[encoded data removed]",
      "text/plain": [
       "<Figure size 432x288 with 1 Axes>"
      ]
     },
     "metadata": {},
     "output_type": "display_data"
    }
   ],
   "source": [
    "sns.boxplot(x='INCOME',data=cars)\n",
    "plt.show()"
   ]
  },
  {
   "cell_type": "code",
   "execution_count": 46,
   "id": "6989d7ec",
   "metadata": {},
   "outputs": [],
   "source": [
    "cars['INCOME']=cars['INCOME'].fillna(cars['INCOME'].median())"
   ]
  },
  {
   "cell_type": "markdown",
   "id": "54252707",
   "metadata": {},
   "source": [
    "## Handling outliers"
   ]
  },
  {
   "cell_type": "code",
   "execution_count": 47,
   "id": "432d70e3",
   "metadata": {},
   "outputs": [
    {
     "ename": "SyntaxError",
     "evalue": "invalid syntax (3663847074.py, line 1)",
     "output_type": "error",
     "traceback": [
      "\u001b[1;36m  Input \u001b[1;32mIn [47]\u001b[1;36m\u001b[0m\n\u001b[1;33m    So many outliers are there so using function to remove it, if only one or two are there then can use log or sqrt or cuberoot tranformation\u001b[0m\n\u001b[1;37m       ^\u001b[0m\n\u001b[1;31mSyntaxError\u001b[0m\u001b[1;31m:\u001b[0m invalid syntax\n"
     ]
    }
   ],
   "source": [
    "# So many outliers are there so using function to remove it, if only one or two are there then can use log or sqrt or cuberoot tranformation\n"
   ]
  },
  {
   "cell_type": "code",
   "execution_count": null,
   "id": "d4abc183",
   "metadata": {},
   "outputs": [],
   "source": [
    "def remove_outlier(col):\n",
    "    sorted(col)\n",
    "    Q1,Q3=col.quantile([0.25,0.75])\n",
    "    IQR=Q3-Q1\n",
    "    lower_range=Q1-(1.5*IQR)\n",
    "    upper_range=Q3+(1.5*IQR)\n",
    "    return lower_range, upper_range"
   ]
  },
  {
   "cell_type": "code",
   "execution_count": null,
   "id": "2b974268",
   "metadata": {},
   "outputs": [],
   "source": [
    "lr_income,up_income=remove_outlier(cars['INCOME'])"
   ]
  },
  {
   "cell_type": "code",
   "execution_count": 48,
   "id": "3f467ada",
   "metadata": {},
   "outputs": [],
   "source": [
    "def remove_outlier(col):\n",
    "    sorted(col)\n",
    "    Q1, Q3=col.quantile([0.25,0.75])\n",
    "    IQR=Q3-Q1\n",
    "    lower_range=Q1-(1.5*IQR)\n",
    "    upper_range=Q3+(1.5*IQR)\n",
    "    return lower_range, upper_range"
   ]
  },
  {
   "cell_type": "code",
   "execution_count": 49,
   "id": "662f9bf2",
   "metadata": {},
   "outputs": [],
   "source": [
    "lr_income,up_income=remove_outlier(cars['INCOME'])"
   ]
  },
  {
   "cell_type": "code",
   "execution_count": null,
   "id": "e27973ef",
   "metadata": {},
   "outputs": [],
   "source": []
  },
  {
   "cell_type": "code",
   "execution_count": 50,
   "id": "210aa25c",
   "metadata": {},
   "outputs": [
    {
     "data": {
      "text/plain": [
       "-38932.344305"
      ]
     },
     "execution_count": 50,
     "metadata": {},
     "output_type": "execute_result"
    }
   ],
   "source": [
    "lr_income"
   ]
  },
  {
   "cell_type": "code",
   "execution_count": 51,
   "id": "3153ae89",
   "metadata": {},
   "outputs": [
    {
     "data": {
      "text/plain": [
       "125781.512695"
      ]
     },
     "execution_count": 51,
     "metadata": {},
     "output_type": "execute_result"
    }
   ],
   "source": [
    "up_income"
   ]
  },
  {
   "cell_type": "code",
   "execution_count": 14,
   "id": "bccd721a",
   "metadata": {},
   "outputs": [],
   "source": [
    "cars['INCOME']=np.where(cars['INCOME']>up_income,up_income,cars['INCOME'])\n",
    "cars['INCOME']=np.where(cars['INCOME']<lr_income,lr_income,cars['INCOME'])"
   ]
  },
  {
   "cell_type": "code",
   "execution_count": 18,
   "id": "8b0559e1",
   "metadata": {},
   "outputs": [
    {
     "data": {
      "image/png": "[encoded data removed]",
      "text/plain": [
       "<Figure size 432x288 with 1 Axes>"
      ]
     },
     "metadata": {},
     "output_type": "display_data"
    }
   ],
   "source": [
    "cars.boxplot(column=[\"INCOME\"])\n",
    "plt.show()"
   ]
  },
  {
   "cell_type": "code",
   "execution_count": null,
   "id": "5c125c51",
   "metadata": {},
   "outputs": [],
   "source": []
  },
  {
   "cell_type": "code",
   "execution_count": null,
   "id": "afa72b4d",
   "metadata": {},
   "outputs": [],
   "source": []
  },
  {
   "cell_type": "code",
   "execution_count": null,
   "id": "ee2de56a",
   "metadata": {},
   "outputs": [],
   "source": []
  }
 ],
 "metadata": {
  "kernelspec": {
   "display_name": "Python 3 (ipykernel)",
   "language": "python",
   "name": "python3"
  },
  "language_info": {
   "codemirror_mode": {
    "name": "ipython",
    "version": 3
   },
   "file_extension": ".py",
   "mimetype": "text/x-python",
   "name": "python",
   "nbconvert_exporter": "python",
   "pygments_lexer": "ipython3",
   "version": "3.9.12"
  }
 },
 "nbformat": 4,
 "nbformat_minor": 5
}
